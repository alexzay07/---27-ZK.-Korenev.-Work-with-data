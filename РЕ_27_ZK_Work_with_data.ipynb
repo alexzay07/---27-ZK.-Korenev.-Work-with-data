{
  "nbformat": 4,
  "nbformat_minor": 0,
  "metadata": {
    "colab": {
      "provenance": [],
      "include_colab_link": true
    },
    "kernelspec": {
      "name": "python3",
      "display_name": "Python 3"
    },
    "language_info": {
      "name": "python"
    }
  },
  "cells": [
    {
      "cell_type": "markdown",
      "metadata": {
        "id": "view-in-github",
        "colab_type": "text"
      },
      "source": [
        "<a href=\"https://colab.research.google.com/github/alexzay07/---27-ZK.-Korenev.-Work-with-data/blob/main/%D0%A0%D0%95_27_ZK_Work_with_data.ipynb\" target=\"_parent\"><img src=\"https://colab.research.google.com/assets/colab-badge.svg\" alt=\"Open In Colab\"/></a>"
      ]
    },
    {
      "cell_type": "code",
      "source": [
        "#установим необходимые библиотеки\n",
        "!pip install langchain\n",
        "!pip install openai\n",
        "!pip install chromadb\n",
        "!pip install tiktoken\n",
        "!pip install markdown-it-py\n",
        "!pip install -qU langchain-openai\n",
        "!pip install langchain-chroma"
      ],
      "metadata": {
        "id": "pbPNJw9srqvL"
      },
      "execution_count": null,
      "outputs": []
    },
    {
      "cell_type": "code",
      "execution_count": null,
      "metadata": {
        "id": "5S2YZO2FrFrw"
      },
      "outputs": [],
      "source": [
        "import os\n",
        "os.environ[\"OPENAI_API_KEY\"] = \"ключ\""
      ]
    },
    {
      "cell_type": "code",
      "source": [
        "#разобьем текст на фрагменты\n",
        "from langchain.text_splitter import RecursiveCharacterTextSplitter, CharacterTextSplitter\n",
        "text = 'Благодаря появлению LLM возникла новая професссия будущего. \\\n",
        "Это промпт-инженер, который наилучшим образом направляет LLM на правильный путь . \\\n",
        "Этот специалист должен обладать творческим мышлением и аналитическими способностями, \\\n",
        "и желательно знанием методов машинного обучения и NLP и навыками программирования'\n",
        "\n",
        "splitter = RecursiveCharacterTextSplitter(\n",
        "    chunk_size=250,#250\n",
        "    chunk_overlap=100,#100\n",
        "    separators = ['. ']#\n",
        ")\n",
        "splited_data = splitter.split_text(text)\n",
        "splited_data"
      ],
      "metadata": {
        "id": "12u8zoUKrs3X",
        "colab": {
          "base_uri": "https://localhost:8080/"
        },
        "outputId": "3d8a9b6f-b7c0-4e65-e97f-71301ebfddf5"
      },
      "execution_count": null,
      "outputs": [
        {
          "output_type": "execute_result",
          "data": {
            "text/plain": [
              "['Благодаря появлению LLM возникла новая професссия будущего. Это промпт-инженер, который наилучшим образом направляет LLM на правильный путь',\n",
              " '. Это промпт-инженер, который наилучшим образом направляет LLM на правильный путь . Этот специалист должен обладать творческим мышлением и аналитическими способностями, и желательно знанием методов машинного обучения и NLP и навыками программирования']"
            ]
          },
          "metadata": {},
          "execution_count": 15
        }
      ]
    },
    {
      "cell_type": "code",
      "source": [
        "#найдем в векторной базе наиболее подходящие фрагменты\n",
        "from langchain_openai import OpenAIEmbeddings\n",
        "embedding = OpenAIEmbeddings()\n",
        "from langchain_chroma import Chroma\n",
        "vectordb_ct = Chroma.from_texts(splited_data, embedding=embedding)\n",
        "question = \"Кто такой промпт-инженер?\"\n",
        "docs = vectordb_ct.similarity_search(question,k=1)\n",
        "docs"
      ],
      "metadata": {
        "id": "QQ7suvNe1Qmb",
        "colab": {
          "base_uri": "https://localhost:8080/"
        },
        "outputId": "210e619f-31fc-4200-b639-390406de48a1"
      },
      "execution_count": null,
      "outputs": [
        {
          "output_type": "execute_result",
          "data": {
            "text/plain": [
              "[Document(page_content='. Это промпт-инженер, который наилучшим образом направляет LLM на правильный путь . Этот специалист должен обладать творческим мышлением и аналитическими способностями, и желательно знанием методов машинного обучения и NLP и навыками программирования')]"
            ]
          },
          "metadata": {},
          "execution_count": 42
        }
      ]
    },
    {
      "cell_type": "code",
      "source": [
        "vectordb_ct.max_marginal_relevance_search(question,k=2, fetch_k=4)"
      ],
      "metadata": {
        "id": "_vrIiL4SHs8O"
      },
      "execution_count": null,
      "outputs": []
    },
    {
      "cell_type": "code",
      "source": [
        "#скалярное произведение векторов. Схожесть\n",
        "import numpy as np\n",
        "question = 'промпт-инженер'\n",
        "\n",
        "embedding1 = embedding.embed_query(question)\n",
        "embedding2 = embedding.embed_query(docs[0].page_content)\n",
        "np.dot(embedding1, embedding2)"
      ],
      "metadata": {
        "id": "3Rx4QVP62GRa",
        "colab": {
          "base_uri": "https://localhost:8080/"
        },
        "outputId": "ffddc2af-07f0-493e-e40c-aeb315d68cdf"
      },
      "execution_count": null,
      "outputs": [
        {
          "output_type": "execute_result",
          "data": {
            "text/plain": [
              "0.8707092792942503"
            ]
          },
          "metadata": {},
          "execution_count": 44
        }
      ]
    },
    {
      "cell_type": "code",
      "source": [
        "#скалярное произведение векторов. Схожесть\n",
        "import numpy as np\n",
        "question = \"Сколько стоят апельсины\"\n",
        "\n",
        "embedding1 = embedding.embed_query(question)\n",
        "embedding2 = embedding.embed_query(docs[0].page_content)\n",
        "np.dot(embedding1, embedding2)"
      ],
      "metadata": {
        "colab": {
          "base_uri": "https://localhost:8080/"
        },
        "id": "U7SNZZB9_Kpv",
        "outputId": "414e74c9-1ce0-426e-d5ed-780a81135c61"
      },
      "execution_count": null,
      "outputs": [
        {
          "output_type": "execute_result",
          "data": {
            "text/plain": [
              "0.7247773680430725"
            ]
          },
          "metadata": {},
          "execution_count": 45
        }
      ]
    },
    {
      "cell_type": "markdown",
      "source": [
        "**Загрузка данных с файлов и сохранение в БД**"
      ],
      "metadata": {
        "id": "dEicxDoQdKKV"
      }
    },
    {
      "cell_type": "code",
      "source": [
        "!pip install langchain_community"
      ],
      "metadata": {
        "id": "0GXTz_RrwRzI"
      },
      "execution_count": null,
      "outputs": []
    },
    {
      "cell_type": "code",
      "source": [
        "#Загрузим файлы на сервер colab\n",
        "from google.colab import files\n",
        "upload = files.upload()\n",
        "#C:\\Users\\lesni\\Documents\\_gitprojects\\llm\\кейс1\\main_info.md"
      ],
      "metadata": {
        "id": "jFyuYTZwdIB4",
        "colab": {
          "base_uri": "https://localhost:8080/",
          "height": 73
        },
        "outputId": "83d7ab6a-6a59-45eb-81fc-a5da4d5e4507"
      },
      "execution_count": null,
      "outputs": [
        {
          "output_type": "display_data",
          "data": {
            "text/plain": [
              "<IPython.core.display.HTML object>"
            ],
            "text/html": [
              "\n",
              "     <input type=\"file\" id=\"files-e09fe67b-62b9-480e-a1d8-c77d9556d59b\" name=\"files[]\" multiple disabled\n",
              "        style=\"border:none\" />\n",
              "     <output id=\"result-e09fe67b-62b9-480e-a1d8-c77d9556d59b\">\n",
              "      Upload widget is only available when the cell has been executed in the\n",
              "      current browser session. Please rerun this cell to enable.\n",
              "      </output>\n",
              "      <script>// Copyright 2017 Google LLC\n",
              "//\n",
              "// Licensed under the Apache License, Version 2.0 (the \"License\");\n",
              "// you may not use this file except in compliance with the License.\n",
              "// You may obtain a copy of the License at\n",
              "//\n",
              "//      http://www.apache.org/licenses/LICENSE-2.0\n",
              "//\n",
              "// Unless required by applicable law or agreed to in writing, software\n",
              "// distributed under the License is distributed on an \"AS IS\" BASIS,\n",
              "// WITHOUT WARRANTIES OR CONDITIONS OF ANY KIND, either express or implied.\n",
              "// See the License for the specific language governing permissions and\n",
              "// limitations under the License.\n",
              "\n",
              "/**\n",
              " * @fileoverview Helpers for google.colab Python module.\n",
              " */\n",
              "(function(scope) {\n",
              "function span(text, styleAttributes = {}) {\n",
              "  const element = document.createElement('span');\n",
              "  element.textContent = text;\n",
              "  for (const key of Object.keys(styleAttributes)) {\n",
              "    element.style[key] = styleAttributes[key];\n",
              "  }\n",
              "  return element;\n",
              "}\n",
              "\n",
              "// Max number of bytes which will be uploaded at a time.\n",
              "const MAX_PAYLOAD_SIZE = 100 * 1024;\n",
              "\n",
              "function _uploadFiles(inputId, outputId) {\n",
              "  const steps = uploadFilesStep(inputId, outputId);\n",
              "  const outputElement = document.getElementById(outputId);\n",
              "  // Cache steps on the outputElement to make it available for the next call\n",
              "  // to uploadFilesContinue from Python.\n",
              "  outputElement.steps = steps;\n",
              "\n",
              "  return _uploadFilesContinue(outputId);\n",
              "}\n",
              "\n",
              "// This is roughly an async generator (not supported in the browser yet),\n",
              "// where there are multiple asynchronous steps and the Python side is going\n",
              "// to poll for completion of each step.\n",
              "// This uses a Promise to block the python side on completion of each step,\n",
              "// then passes the result of the previous step as the input to the next step.\n",
              "function _uploadFilesContinue(outputId) {\n",
              "  const outputElement = document.getElementById(outputId);\n",
              "  const steps = outputElement.steps;\n",
              "\n",
              "  const next = steps.next(outputElement.lastPromiseValue);\n",
              "  return Promise.resolve(next.value.promise).then((value) => {\n",
              "    // Cache the last promise value to make it available to the next\n",
              "    // step of the generator.\n",
              "    outputElement.lastPromiseValue = value;\n",
              "    return next.value.response;\n",
              "  });\n",
              "}\n",
              "\n",
              "/**\n",
              " * Generator function which is called between each async step of the upload\n",
              " * process.\n",
              " * @param {string} inputId Element ID of the input file picker element.\n",
              " * @param {string} outputId Element ID of the output display.\n",
              " * @return {!Iterable<!Object>} Iterable of next steps.\n",
              " */\n",
              "function* uploadFilesStep(inputId, outputId) {\n",
              "  const inputElement = document.getElementById(inputId);\n",
              "  inputElement.disabled = false;\n",
              "\n",
              "  const outputElement = document.getElementById(outputId);\n",
              "  outputElement.innerHTML = '';\n",
              "\n",
              "  const pickedPromise = new Promise((resolve) => {\n",
              "    inputElement.addEventListener('change', (e) => {\n",
              "      resolve(e.target.files);\n",
              "    });\n",
              "  });\n",
              "\n",
              "  const cancel = document.createElement('button');\n",
              "  inputElement.parentElement.appendChild(cancel);\n",
              "  cancel.textContent = 'Cancel upload';\n",
              "  const cancelPromise = new Promise((resolve) => {\n",
              "    cancel.onclick = () => {\n",
              "      resolve(null);\n",
              "    };\n",
              "  });\n",
              "\n",
              "  // Wait for the user to pick the files.\n",
              "  const files = yield {\n",
              "    promise: Promise.race([pickedPromise, cancelPromise]),\n",
              "    response: {\n",
              "      action: 'starting',\n",
              "    }\n",
              "  };\n",
              "\n",
              "  cancel.remove();\n",
              "\n",
              "  // Disable the input element since further picks are not allowed.\n",
              "  inputElement.disabled = true;\n",
              "\n",
              "  if (!files) {\n",
              "    return {\n",
              "      response: {\n",
              "        action: 'complete',\n",
              "      }\n",
              "    };\n",
              "  }\n",
              "\n",
              "  for (const file of files) {\n",
              "    const li = document.createElement('li');\n",
              "    li.append(span(file.name, {fontWeight: 'bold'}));\n",
              "    li.append(span(\n",
              "        `(${file.type || 'n/a'}) - ${file.size} bytes, ` +\n",
              "        `last modified: ${\n",
              "            file.lastModifiedDate ? file.lastModifiedDate.toLocaleDateString() :\n",
              "                                    'n/a'} - `));\n",
              "    const percent = span('0% done');\n",
              "    li.appendChild(percent);\n",
              "\n",
              "    outputElement.appendChild(li);\n",
              "\n",
              "    const fileDataPromise = new Promise((resolve) => {\n",
              "      const reader = new FileReader();\n",
              "      reader.onload = (e) => {\n",
              "        resolve(e.target.result);\n",
              "      };\n",
              "      reader.readAsArrayBuffer(file);\n",
              "    });\n",
              "    // Wait for the data to be ready.\n",
              "    let fileData = yield {\n",
              "      promise: fileDataPromise,\n",
              "      response: {\n",
              "        action: 'continue',\n",
              "      }\n",
              "    };\n",
              "\n",
              "    // Use a chunked sending to avoid message size limits. See b/62115660.\n",
              "    let position = 0;\n",
              "    do {\n",
              "      const length = Math.min(fileData.byteLength - position, MAX_PAYLOAD_SIZE);\n",
              "      const chunk = new Uint8Array(fileData, position, length);\n",
              "      position += length;\n",
              "\n",
              "      const base64 = btoa(String.fromCharCode.apply(null, chunk));\n",
              "      yield {\n",
              "        response: {\n",
              "          action: 'append',\n",
              "          file: file.name,\n",
              "          data: base64,\n",
              "        },\n",
              "      };\n",
              "\n",
              "      let percentDone = fileData.byteLength === 0 ?\n",
              "          100 :\n",
              "          Math.round((position / fileData.byteLength) * 100);\n",
              "      percent.textContent = `${percentDone}% done`;\n",
              "\n",
              "    } while (position < fileData.byteLength);\n",
              "  }\n",
              "\n",
              "  // All done.\n",
              "  yield {\n",
              "    response: {\n",
              "      action: 'complete',\n",
              "    }\n",
              "  };\n",
              "}\n",
              "\n",
              "scope.google = scope.google || {};\n",
              "scope.google.colab = scope.google.colab || {};\n",
              "scope.google.colab._files = {\n",
              "  _uploadFiles,\n",
              "  _uploadFilesContinue,\n",
              "};\n",
              "})(self);\n",
              "</script> "
            ]
          },
          "metadata": {}
        },
        {
          "output_type": "stream",
          "name": "stdout",
          "text": [
            "Saving main_info.md to main_info.md\n"
          ]
        }
      ]
    },
    {
      "cell_type": "code",
      "source": [
        "#получим список загруженных файлов\n",
        "!ls"
      ],
      "metadata": {
        "id": "Sgga1ExXdib9",
        "colab": {
          "base_uri": "https://localhost:8080/"
        },
        "outputId": "e7645d46-7eb3-43d7-ab01-d4e441d1c2a2"
      },
      "execution_count": null,
      "outputs": [
        {
          "output_type": "stream",
          "name": "stdout",
          "text": [
            "main_info.md  sample_data\n"
          ]
        }
      ]
    },
    {
      "cell_type": "code",
      "source": [
        "⬇️Не используй эту команду при первой работе с кодом, так как она удалит загруженный файл⬇️"
      ],
      "metadata": {
        "id": "bMxjzwKJ7hQ7"
      },
      "execution_count": null,
      "outputs": []
    },
    {
      "cell_type": "code",
      "source": [
        "!rm *.md"
      ],
      "metadata": {
        "id": "KBCco3p_dlY_"
      },
      "execution_count": null,
      "outputs": []
    },
    {
      "cell_type": "code",
      "source": [
        "from langchain_community.document_loaders import TextLoader\n",
        "from langchain_community.document_loaders import DirectoryLoader\n",
        "path = ''\n",
        "text_loader_kwargs={'autodetect_encoding': True}\n",
        "loader = DirectoryLoader(path, glob=\"**/*info.md\", loader_cls=TextLoader,\n",
        "                         loader_kwargs=text_loader_kwargs)\n",
        "docs = loader.load()\n",
        "len(docs)"
      ],
      "metadata": {
        "id": "r05Fj3eUc1b7",
        "colab": {
          "base_uri": "https://localhost:8080/"
        },
        "outputId": "27050dd2-44c9-4e29-c5d6-0d39a31c17c6"
      },
      "execution_count": null,
      "outputs": [
        {
          "output_type": "execute_result",
          "data": {
            "text/plain": [
              "1"
            ]
          },
          "metadata": {},
          "execution_count": 27
        }
      ]
    },
    {
      "cell_type": "code",
      "source": [
        "splitter = RecursiveCharacterTextSplitter(\n",
        "    chunk_size=1000,\n",
        "    chunk_overlap=200,\n",
        "    separators=[\"\\n\\n\", \"\\n\", \"(?<=\\. )\"]\n",
        ")\n",
        "splitted_texts = splitter.split_documents(docs)\n",
        "#pp(a[0].page_content)\n",
        "len(splitted_texts)"
      ],
      "metadata": {
        "id": "Ph1NelvWeddE",
        "colab": {
          "base_uri": "https://localhost:8080/"
        },
        "outputId": "826d7cc9-2e7c-4eee-f226-3507ab3fe5f0"
      },
      "execution_count": null,
      "outputs": [
        {
          "output_type": "execute_result",
          "data": {
            "text/plain": [
              "12"
            ]
          },
          "metadata": {},
          "execution_count": 28
        }
      ]
    },
    {
      "cell_type": "code",
      "source": [
        "splitted_texts[1] #увеличить размер чанка"
      ],
      "metadata": {
        "id": "HFvnmyHB5se3",
        "colab": {
          "base_uri": "https://localhost:8080/"
        },
        "outputId": "82cffc87-ca36-4a90-92c7-0f702922b81b"
      },
      "execution_count": null,
      "outputs": [
        {
          "output_type": "execute_result",
          "data": {
            "text/plain": [
              "Document(page_content='## Бронирование\\n\\nДля бронирования дня рождения требуется предоплата 1000 рублей (переводом на карту администратора)\\n\\n# Услуги и локации комплекса\\n\\n## Игровые комнаты и локации\\n\\nКомплекс состоит из пяти  игровых локаций:\\n- Лабиринт: Трехэтажный детский игровой лабиринт с батутами и различными препятствиями внутри.\\n- Красочные сети: аттракцион состоит из множества переплетенных вручную разноцветных нейлоновых нитей, закрепленных на прочной конструкции.\\n- Веревочный парк: здесь дети смогут показать свою ловкость и смелость, преодолевая различные препятствия на высоте.\\n- Мультирум: игровое пространство наполнено трендовыми игрушками такие как  LEGO, Hot Wheels, Barbie, L.O.L. и многие другие. \\n- Песочница: песочница с мраморным песком  для самых маленьких гостей\\nПредусмотрена услуга Мультипарк, которая включает в себя следующие локации: лабиринт, красочные сети, песочница\\n\\n## Дополнительные услуги при групповом посещении игровых комнат на время празднования дня рождения', metadata={'source': 'main_info.md'})"
            ]
          },
          "metadata": {},
          "execution_count": 29
        }
      ]
    },
    {
      "cell_type": "code",
      "source": [
        "#преобразуем в вектор и сохраним БД\n",
        "from langchain_openai import OpenAIEmbeddings\n",
        "from langchain_chroma import Chroma\n",
        "persist_directory = ''\n",
        "embedding = OpenAIEmbeddings()\n",
        "vectordb = Chroma.from_documents(\n",
        "    documents=splitted_texts,\n",
        "    embedding=embedding,\n",
        "    persist_directory=persist_directory\n",
        ") #создаем БД\n",
        "print(vectordb._collection.count())"
      ],
      "metadata": {
        "id": "BIc0gn0g58tE",
        "colab": {
          "base_uri": "https://localhost:8080/"
        },
        "outputId": "b78aeca7-1a28-4819-9cf2-13e06666bcfa"
      },
      "execution_count": null,
      "outputs": [
        {
          "output_type": "stream",
          "name": "stdout",
          "text": [
            "12\n"
          ]
        }
      ]
    },
    {
      "cell_type": "code",
      "source": [
        "vectordb.delete_collection()"
      ],
      "metadata": {
        "id": "YYdsWcv--B2G"
      },
      "execution_count": null,
      "outputs": []
    },
    {
      "cell_type": "code",
      "source": [
        "#загрузим бд с локалки\n",
        "vectordb = Chroma(\n",
        "    persist_directory=persist_directory,\n",
        "    embedding_function=embedding\n",
        ")\n",
        "print(vectordb._collection.count())"
      ],
      "metadata": {
        "id": "xOL_7cil8JHE",
        "colab": {
          "base_uri": "https://localhost:8080/"
        },
        "outputId": "a74601a9-904b-4817-8eef-8e7650fd46c2"
      },
      "execution_count": null,
      "outputs": [
        {
          "output_type": "stream",
          "name": "stdout",
          "text": [
            "12\n"
          ]
        }
      ]
    },
    {
      "cell_type": "markdown",
      "source": [
        "**Поиск данных в БД**"
      ],
      "metadata": {
        "id": "rrh_kYxzQ_e_"
      }
    },
    {
      "cell_type": "code",
      "source": [
        "def printAnswer(answers):\n",
        "    for answer in answers:\n",
        "        print(answer.page_content)\n",
        "        print(answer.metadata)#.source\n",
        "        print('-----')\n",
        "\n",
        "question = \"Где вы находитесь?\"\n",
        "question = \"как с вами связаться?\"\n",
        "answers = vectordb.similarity_search(question,k=3)\n",
        "\n",
        "printAnswer(answers)"
      ],
      "metadata": {
        "id": "VswryAE16fXK",
        "colab": {
          "base_uri": "https://localhost:8080/"
        },
        "outputId": "a3d49e9d-9ce3-4c0c-b63e-5141b979b591"
      },
      "execution_count": null,
      "outputs": [
        {
          "output_type": "stream",
          "name": "stdout",
          "text": [
            "# Общая информация о комплексе\n",
            "\n",
            "## Контактная информация\n",
            "\n",
            "Адрес. г. Волгодонск, улица  Энтузиастов 9а , Сквер “Дружбы”\n",
            "Администратор  Светлана +79896260290\n",
            "\n",
            "## Режим работы\n",
            "\n",
            "с 10.00-21.30 без перерыва и выходных.\n",
            "\n",
            "## Бронирование\n",
            "\n",
            "Для бронирования дня рождения требуется предоплата 1000 рублей (переводом на карту администратора)\n",
            "\n",
            "# Услуги и локации комплекса\n",
            "\n",
            "## Игровые комнаты и локации\n",
            "{'source': 'main_info.md'}\n",
            "-----\n",
            "С помощью специальных конфетти. над гостями раскидывается тысячи блестящих лент из фольги. Невесомые серебряные лепестки парят в воздухе под веселую зажигательную музыку.\n",
            "\n",
            "## Аренда беседки для празднования дня рождения\n",
            "\n",
            "Отдельная беседка со столом. Можно перекусить и пообщаться компанией. Беседка украшена гирляндой-растяжкой и 10 шариками. На столе - праздничная скатерть. Есть куллер с питьевой водой. \n",
            "\n",
            "# Дополнительная информация. Аренда беседки и групповое посещение игровых комнат на время празднования дня рождения\n",
            "\n",
            "Напитки, торт, еду можно принести с собой.\n",
            "Нож и холодильник предоставляется. Гость может принести  флешку с любимой музыкой именинника.\n",
            "На территории есть туалет.\n",
            "\n",
            "## Посуда\n",
            "\n",
            "В наличие есть  бумажная и пластиковая одноразовая посуда,  это платные комплекты ( стакан + тарелка+ ложка) от 200-400 руб комплект 6 шт., наличие нужно уточнять.\n",
            "\n",
            "## Фотограф\n",
            "\n",
            "Фотографа в штате нет, но можем найти со стороны.\n",
            "\n",
            "# Цены при индивидуальном посещении локаций комплекса\n",
            "{'source': 'main_info.md'}\n",
            "-----\n",
            "- Эффектное появление аниматора в костюме  на выбор: Чебурашка, Спайдер мен, Майнкрафт, Леди Баг) \n",
            "- Игры по желанию (на внимательность и логику, конкурсы эстафеты с ярким реквизитом и призами).\n",
            "- Вынос торта и трогательное поздравление (В согласованный момент, ставим на колонке песню \"С днем рождения тебя\" и сотрудники Мультипарка выносят ваш торт для именинника, громко его поздравляют) \n",
            "- Фото с героем на память \n",
            "- Мини дискотека с мыльными пузырями в подарок\n",
            "О профессионализме аниматоров\n",
            "С нашими профессиональными аниматорами никто не останется в стороне, программа гибкая и будет подстраиваться под общее настроение детей, а умение сориентироваться на месте и переиграть весь сценарий исходя из общего эмоционального состояния детей, сделает ваш идеальный праздник.\n",
            "{'source': 'main_info.md'}\n",
            "-----\n"
          ]
        }
      ]
    },
    {
      "cell_type": "code",
      "source": [
        "answers = vectordb.max_marginal_relevance_search(question,k=2, fetch_k=5)\n",
        "printAnswer(answers)"
      ],
      "metadata": {
        "id": "CtUfpCRT-tcS",
        "colab": {
          "base_uri": "https://localhost:8080/"
        },
        "outputId": "684b850e-1ae1-45db-a595-1e9654b65e7b"
      },
      "execution_count": null,
      "outputs": [
        {
          "output_type": "stream",
          "name": "stdout",
          "text": [
            "# Общая информация о комплексе\n",
            "\n",
            "## Контактная информация\n",
            "\n",
            "Адрес. г. Волгодонск, улица  Энтузиастов 9а , Сквер “Дружбы”\n",
            "Администратор  Светлана +79896260290\n",
            "\n",
            "## Режим работы\n",
            "\n",
            "с 10.00-21.30 без перерыва и выходных.\n",
            "\n",
            "## Бронирование\n",
            "\n",
            "Для бронирования дня рождения требуется предоплата 1000 рублей (переводом на карту администратора)\n",
            "\n",
            "# Услуги и локации комплекса\n",
            "\n",
            "## Игровые комнаты и локации\n",
            "{'source': 'main_info.md'}\n",
            "-----\n",
            "# Скидки и особые условия\n",
            "\n",
            "- Многодетные семьи при предъявлении документов получают скидку 50%.\n",
            "- Особые дети или дети с ограниченными возможностями проходят бесплатно (при предъявлении соответствующих документов).\n",
            "- Дети из детских домов также проходят бесплатно при предъявлении документов.\n",
            "{'source': 'main_info.md'}\n",
            "-----\n"
          ]
        }
      ]
    },
    {
      "cell_type": "code",
      "source": [
        "!pip install langchainhub"
      ],
      "metadata": {
        "id": "LqBi2my4Bv6J"
      },
      "execution_count": null,
      "outputs": []
    },
    {
      "cell_type": "code",
      "source": [
        "from langchain_core.runnables import RunnablePassthrough\n",
        "from langchain_core.output_parsers import StrOutputParser\n",
        "from langchain_openai import ChatOpenAI\n",
        "from langchain import hub\n",
        "\n",
        "os.environ[\"LANGCHAIN_TRACING_V2\"] = \"true\"\n",
        "os.environ[\"LANGCHAIN_API_KEY\"] = \"твой API-ключ\"\n",
        "\n",
        "retriever = vectordb.as_retriever()\n",
        "prompt = hub.pull(\"rlm/rag-prompt\")\n",
        "\n",
        "def format_docs(docs):\n",
        "    return \"\\n\\nФрагмент текста\\n\\n\".join(doc.page_content for doc in docs)\n",
        "\n",
        "model = ChatOpenAI(\n",
        "    model=\"gpt-4o\",\n",
        "    temperature=0.7,\n",
        "    )\n",
        "\n",
        "rag_chain = (\n",
        "    {\"context\": retriever | format_docs, \"question\": RunnablePassthrough()}\n",
        "    | prompt\n",
        "    | model\n",
        "    | StrOutputParser()\n",
        ")\n",
        "\n",
        "rag_chain.invoke(\"Как с Вами связаться?\")"
      ],
      "metadata": {
        "colab": {
          "base_uri": "https://localhost:8080/",
          "height": 383
        },
        "id": "vX63vEO_-XmB",
        "outputId": "b7d52398-a7d3-4439-8e18-3761f0dd21d4"
      },
      "execution_count": null,
      "outputs": [
        {
          "output_type": "error",
          "ename": "ModuleNotFoundError",
          "evalue": "No module named 'langchain_openai'",
          "traceback": [
            "\u001b[0;31m---------------------------------------------------------------------------\u001b[0m",
            "\u001b[0;31mModuleNotFoundError\u001b[0m                       Traceback (most recent call last)",
            "\u001b[0;32m<ipython-input-1-68ba1843746c>\u001b[0m in \u001b[0;36m<cell line: 3>\u001b[0;34m()\u001b[0m\n\u001b[1;32m      1\u001b[0m \u001b[0;32mfrom\u001b[0m \u001b[0mlangchain_core\u001b[0m\u001b[0;34m.\u001b[0m\u001b[0mrunnables\u001b[0m \u001b[0;32mimport\u001b[0m \u001b[0mRunnablePassthrough\u001b[0m\u001b[0;34m\u001b[0m\u001b[0;34m\u001b[0m\u001b[0m\n\u001b[1;32m      2\u001b[0m \u001b[0;32mfrom\u001b[0m \u001b[0mlangchain_core\u001b[0m\u001b[0;34m.\u001b[0m\u001b[0moutput_parsers\u001b[0m \u001b[0;32mimport\u001b[0m \u001b[0mStrOutputParser\u001b[0m\u001b[0;34m\u001b[0m\u001b[0;34m\u001b[0m\u001b[0m\n\u001b[0;32m----> 3\u001b[0;31m \u001b[0;32mfrom\u001b[0m \u001b[0mlangchain_openai\u001b[0m \u001b[0;32mimport\u001b[0m \u001b[0mChatOpenAI\u001b[0m\u001b[0;34m\u001b[0m\u001b[0;34m\u001b[0m\u001b[0m\n\u001b[0m\u001b[1;32m      4\u001b[0m \u001b[0;32mfrom\u001b[0m \u001b[0mlangchain\u001b[0m \u001b[0;32mimport\u001b[0m \u001b[0mhub\u001b[0m\u001b[0;34m\u001b[0m\u001b[0;34m\u001b[0m\u001b[0m\n\u001b[1;32m      5\u001b[0m \u001b[0;34m\u001b[0m\u001b[0m\n",
            "\u001b[0;31mModuleNotFoundError\u001b[0m: No module named 'langchain_openai'",
            "",
            "\u001b[0;31m---------------------------------------------------------------------------\u001b[0;32m\nNOTE: If your import is failing due to a missing package, you can\nmanually install dependencies using either !pip or !apt.\n\nTo view examples of installing some common dependencies, click the\n\"Open Examples\" button below.\n\u001b[0;31m---------------------------------------------------------------------------\u001b[0m\n"
          ],
          "errorDetails": {
            "actions": [
              {
                "action": "open_url",
                "actionText": "Open Examples",
                "url": "/notebooks/snippets/importing_libraries.ipynb"
              }
            ]
          }
        }
      ]
    },
    {
      "cell_type": "code",
      "source": [
        "from langchain_chroma import Chroma\n",
        "from langchain_core.example_selectors import SemanticSimilarityExampleSelector\n",
        "from langchain_openai import OpenAIEmbeddings\n",
        "\n",
        "examples = [\n",
        "    {\"input\": \"2 плюс 2\", \"output\": \"равно четыре\"},\n",
        "    {\"input\": \"2 плюс 3\", \"output\": \"равно пять\"},\n",
        "    {\"input\": \"Как лает собака\", \"output\": \"ГАВ-ГАВ\"},\n",
        "    {\"input\": \"Что говорит хрюша\",\"output\": \"ХРЮ-ХРЮ\",},\n",
        "]\n",
        "\n",
        "to_vectorize = [\" \".join(example.values()) for example in examples]\n",
        "embeddings = OpenAIEmbeddings()\n",
        "vectorstore = Chroma.from_texts(to_vectorize, embeddings, metadatas=examples)"
      ],
      "metadata": {
        "id": "23XltbMOGfM0"
      },
      "execution_count": null,
      "outputs": []
    },
    {
      "cell_type": "code",
      "source": [
        "example_selector = SemanticSimilarityExampleSelector(\n",
        "    vectorstore=vectorstore,\n",
        "    k=2,\n",
        ")\n",
        "\n",
        "example_selector.select_examples({\"input\": \"2 минус 1\"})\n",
        "example_selector.select_examples({\"input\": \"что говорят рыбы\"})"
      ],
      "metadata": {
        "colab": {
          "base_uri": "https://localhost:8080/"
        },
        "id": "OLtZ8UznGzCh",
        "outputId": "5a6bebe6-d505-43c3-a3a1-b22c8fee346d"
      },
      "execution_count": null,
      "outputs": [
        {
          "output_type": "execute_result",
          "data": {
            "text/plain": [
              "[{'input': 'Что говорит хрюша', 'output': 'ХРЮ-ХРЮ'},\n",
              " {'input': 'Как лает собака', 'output': 'ГАВ-ГАВ'}]"
            ]
          },
          "metadata": {},
          "execution_count": 91
        }
      ]
    },
    {
      "cell_type": "code",
      "source": [
        "from langchain_core.prompts import ChatPromptTemplate, FewShotChatMessagePromptTemplate\n",
        "\n",
        "few_shot_prompt = FewShotChatMessagePromptTemplate(\n",
        "    input_variables=[\"input\"],\n",
        "    example_selector=example_selector,\n",
        "    example_prompt=ChatPromptTemplate.from_messages(\n",
        "        [(\"human\", \"{input}\"), (\"ai\", \"{output}\")]\n",
        "    ),\n",
        ")\n",
        "\n",
        "final_prompt = ChatPromptTemplate.from_messages(\n",
        "    [\n",
        "        (\"system\", \"You are a wondrous wizard of math.\"),\n",
        "        few_shot_prompt,\n",
        "        (\"human\", \"{input}\"),\n",
        "    ]\n",
        ")\n",
        "\n",
        "print(few_shot_prompt.invoke(input=\"2 минус 1\"))"
      ],
      "metadata": {
        "colab": {
          "base_uri": "https://localhost:8080/"
        },
        "id": "olsJhWVFHTd5",
        "outputId": "928696ab-d8ac-44ac-8526-a70cb102fca4"
      },
      "execution_count": null,
      "outputs": [
        {
          "output_type": "stream",
          "name": "stdout",
          "text": [
            "messages=[HumanMessage(content='2 плюс 3'), AIMessage(content='равно пять'), HumanMessage(content='2 плюс 2'), AIMessage(content='равно четыре')]\n"
          ]
        }
      ]
    },
    {
      "cell_type": "code",
      "source": [
        "parser = StrOutputParser()\n",
        "chain = final_prompt | model | parser\n",
        "\n",
        "chain.invoke({\"input\": \"2 минус 1\"})\n",
        "chain.invoke({\"input\": \"что говорят куры\"})"
      ],
      "metadata": {
        "colab": {
          "base_uri": "https://localhost:8080/",
          "height": 35
        },
        "id": "8rlsXl0tHjt_",
        "outputId": "d3fa75fd-cc9d-47cc-a168-2560fca3ce6c"
      },
      "execution_count": null,
      "outputs": [
        {
          "output_type": "execute_result",
          "data": {
            "text/plain": [
              "'Куры говорят \"Ко-ко-ко\" или \"Куд-кудах\".'"
            ],
            "application/vnd.google.colaboratory.intrinsic+json": {
              "type": "string"
            }
          },
          "metadata": {},
          "execution_count": 96
        }
      ]
    }
  ]
}